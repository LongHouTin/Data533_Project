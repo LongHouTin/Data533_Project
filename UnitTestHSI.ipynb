{
 "cells": [
  {
   "cell_type": "code",
   "execution_count": 1,
   "metadata": {},
   "outputs": [
    {
     "name": "stdout",
     "output_type": "stream",
     "text": [
      "['C:\\\\Users\\\\longh\\\\Desktop\\\\UBCO MDS\\\\Block 3\\\\Data533_Collaborative Software Development\\\\999 backup', 'C:\\\\Users\\\\longh\\\\Anaconda3\\\\python37.zip', 'C:\\\\Users\\\\longh\\\\Anaconda3\\\\DLLs', 'C:\\\\Users\\\\longh\\\\Anaconda3\\\\lib', 'C:\\\\Users\\\\longh\\\\Anaconda3', '', 'C:\\\\Users\\\\longh\\\\Anaconda3\\\\lib\\\\site-packages', 'C:\\\\Users\\\\longh\\\\Anaconda3\\\\lib\\\\site-packages\\\\win32', 'C:\\\\Users\\\\longh\\\\Anaconda3\\\\lib\\\\site-packages\\\\win32\\\\lib', 'C:\\\\Users\\\\longh\\\\Anaconda3\\\\lib\\\\site-packages\\\\Pythonwin', 'C:\\\\Users\\\\longh\\\\Anaconda3\\\\lib\\\\site-packages\\\\IPython\\\\extensions', 'C:\\\\Users\\\\longh\\\\.ipython']\n",
      "['C:\\\\Users\\\\longh\\\\Desktop\\\\UBCO MDS\\\\Block 3\\\\Data533_Collaborative Software Development\\\\999 backup', 'C:\\\\Users\\\\longh\\\\Anaconda3\\\\python37.zip', 'C:\\\\Users\\\\longh\\\\Anaconda3\\\\DLLs', 'C:\\\\Users\\\\longh\\\\Anaconda3\\\\lib', 'C:\\\\Users\\\\longh\\\\Anaconda3', '', 'C:\\\\Users\\\\longh\\\\Anaconda3\\\\lib\\\\site-packages', 'C:\\\\Users\\\\longh\\\\Anaconda3\\\\lib\\\\site-packages\\\\win32', 'C:\\\\Users\\\\longh\\\\Anaconda3\\\\lib\\\\site-packages\\\\win32\\\\lib', 'C:\\\\Users\\\\longh\\\\Anaconda3\\\\lib\\\\site-packages\\\\Pythonwin', 'C:\\\\Users\\\\longh\\\\Anaconda3\\\\lib\\\\site-packages\\\\IPython\\\\extensions', 'C:\\\\Users\\\\longh\\\\.ipython']\n"
     ]
    },
    {
     "name": "stderr",
     "output_type": "stream",
     "text": [
      ".."
     ]
    },
    {
     "name": "stdout",
     "output_type": "stream",
     "text": [
      "setUpClass\n"
     ]
    },
    {
     "name": "stderr",
     "output_type": "stream",
     "text": [
      ".."
     ]
    },
    {
     "name": "stdout",
     "output_type": "stream",
     "text": [
      "30\n",
      "30\n"
     ]
    },
    {
     "name": "stderr",
     "output_type": "stream",
     "text": [
      "\n",
      "----------------------------------------------------------------------\n",
      "Ran 4 tests in 43.112s\n",
      "\n",
      "OK\n"
     ]
    },
    {
     "data": {
      "text/plain": [
       "<unittest.runner.TextTestResult run=4 errors=0 failures=0>"
      ]
     },
     "execution_count": 1,
     "metadata": {},
     "output_type": "execute_result"
    }
   ],
   "source": [
    "# A test suite that test the modules in the subpackage HSI \n",
    "import unittest\n",
    "import testSam.testHSIinstant, testSam.testHSIhistoric\n",
    "\n",
    "HSIsuite=unittest.TestSuite()\n",
    "HSIsuite.addTests([testSam.testHSIinstant.TestHSIinstant(\"test_indices\"),testSam.testHSIinstant.TestHSIinstant(\"test_stocks\")])\n",
    "HSIsuite.addTests([testSam.testHSIhistoric.TestHSIhistoric(\"test_getprices\"),testSam.testHSIhistoric.TestHSIhistoric(\"test_getreturns\")])\n",
    "unittest.TextTestRunner().run(HSIsuite)"
   ]
  }
 ],
 "metadata": {
  "kernelspec": {
   "display_name": "Python 3",
   "language": "python",
   "name": "python3"
  },
  "language_info": {
   "codemirror_mode": {
    "name": "ipython",
    "version": 3
   },
   "file_extension": ".py",
   "mimetype": "text/x-python",
   "name": "python",
   "nbconvert_exporter": "python",
   "pygments_lexer": "ipython3",
   "version": "3.7.3"
  }
 },
 "nbformat": 4,
 "nbformat_minor": 2
}
