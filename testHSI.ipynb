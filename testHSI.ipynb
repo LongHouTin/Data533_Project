{
 "cells": [
  {
   "cell_type": "code",
   "execution_count": null,
   "metadata": {},
   "outputs": [],
   "source": [
    "# %load testHSI.py\n",
    "import numpy as np, pandas as pd\n",
    "import fed.HSI.instant as it, fed.HSI.historic as ht\n",
    "    \n",
    "import unittest\n",
    "import testSam.testHSIinstant, testSam.testHSIhistoric\n",
    "\n",
    "\n",
    "HSIsuite=unittest.TestSuite()\n",
    "HSIsuite.addTests([testSam.testHSIinstant.TestHSIinstant(\"test_indices\"),testSam.testHSIinstant.TestHSIinstant(\"test_stocks\")])\n",
    "HSIsuite.addTests([testSam.testHSIhistoric.TestHSIhistoric(\"test_getprices\"),testSam.testHSIhistoric.TestHSIhistoric(\"test_getreturns\"),testSam.testHSIhistoric.TestHSIhistoric(\"test_getlogreturns\"),testSam.testHSIhistoric.TestHSIhistoric(\"test_plotprices\"),testSam.testHSIhistoric.TestHSIhistoric(\"test_plotreturns\")])\n",
    "unittest.TextTestRunner().run(HSIsuite)"
   ]
  },
  {
   "cell_type": "code",
   "execution_count": 2,
   "metadata": {},
   "outputs": [
    {
     "name": "stdout",
     "output_type": "stream",
     "text": [
      "['C:\\\\Users\\\\longh\\\\Desktop\\\\UBCO MDS\\\\Block 3\\\\Data533_Collaborative Software Development\\\\Data533_Project', 'C:\\\\Users\\\\longh\\\\Anaconda3\\\\python37.zip', 'C:\\\\Users\\\\longh\\\\Anaconda3\\\\DLLs', 'C:\\\\Users\\\\longh\\\\Anaconda3\\\\lib', 'C:\\\\Users\\\\longh\\\\Anaconda3', '', 'C:\\\\Users\\\\longh\\\\Anaconda3\\\\lib\\\\site-packages', 'C:\\\\Users\\\\longh\\\\Anaconda3\\\\lib\\\\site-packages\\\\win32', 'C:\\\\Users\\\\longh\\\\Anaconda3\\\\lib\\\\site-packages\\\\win32\\\\lib', 'C:\\\\Users\\\\longh\\\\Anaconda3\\\\lib\\\\site-packages\\\\Pythonwin', 'C:\\\\Users\\\\longh\\\\Anaconda3\\\\lib\\\\site-packages\\\\IPython\\\\extensions', 'C:\\\\Users\\\\longh\\\\.ipython']\n",
      "['C:\\\\Users\\\\longh\\\\Desktop\\\\UBCO MDS\\\\Block 3\\\\Data533_Collaborative Software Development\\\\Data533_Project', 'C:\\\\Users\\\\longh\\\\Anaconda3\\\\python37.zip', 'C:\\\\Users\\\\longh\\\\Anaconda3\\\\DLLs', 'C:\\\\Users\\\\longh\\\\Anaconda3\\\\lib', 'C:\\\\Users\\\\longh\\\\Anaconda3', '', 'C:\\\\Users\\\\longh\\\\Anaconda3\\\\lib\\\\site-packages', 'C:\\\\Users\\\\longh\\\\Anaconda3\\\\lib\\\\site-packages\\\\win32', 'C:\\\\Users\\\\longh\\\\Anaconda3\\\\lib\\\\site-packages\\\\win32\\\\lib', 'C:\\\\Users\\\\longh\\\\Anaconda3\\\\lib\\\\site-packages\\\\Pythonwin', 'C:\\\\Users\\\\longh\\\\Anaconda3\\\\lib\\\\site-packages\\\\IPython\\\\extensions', 'C:\\\\Users\\\\longh\\\\.ipython']\n"
     ]
    },
    {
     "name": "stderr",
     "output_type": "stream",
     "text": [
      ".."
     ]
    },
    {
     "name": "stdout",
     "output_type": "stream",
     "text": [
      "setUpClass\n"
     ]
    },
    {
     "name": "stderr",
     "output_type": "stream",
     "text": [
      "...."
     ]
    },
    {
     "name": "stdout",
     "output_type": "stream",
     "text": [
      "2\n",
      "2\n"
     ]
    },
    {
     "name": "stderr",
     "output_type": "stream",
     "text": [
      ".\n",
      "----------------------------------------------------------------------\n",
      "Ran 7 tests in 34.343s\n",
      "\n",
      "OK\n"
     ]
    },
    {
     "data": {
      "text/plain": [
       "<unittest.runner.TextTestResult run=7 errors=0 failures=0>"
      ]
     },
     "execution_count": 2,
     "metadata": {},
     "output_type": "execute_result"
    }
   ],
   "source": [
    "import numpy as np, pandas as pd\n",
    "import fed.HSI.instant as it, fed.HSI.historic as ht\n",
    "    \n",
    "import unittest\n",
    "import testSam.testHSIinstant, testSam.testHSIhistoric\n",
    "\n",
    "\n",
    "HSIsuite=unittest.TestSuite()\n",
    "HSIsuite.addTests([testSam.testHSIinstant.TestHSIinstant(\"test_indices\"),testSam.testHSIinstant.TestHSIinstant(\"test_stocks\")])\n",
    "HSIsuite.addTests([testSam.testHSIhistoric.TestHSIhistoric(\"test_getprices\"),testSam.testHSIhistoric.TestHSIhistoric(\"test_getreturns\"),testSam.testHSIhistoric.TestHSIhistoric(\"test_getlogreturns\"),testSam.testHSIhistoric.TestHSIhistoric(\"test_plotprices\"),testSam.testHSIhistoric.TestHSIhistoric(\"test_plotreturns\")])\n",
    "unittest.TextTestRunner().run(HSIsuite)"
   ]
  }
 ],
 "metadata": {
  "kernelspec": {
   "display_name": "Python 3",
   "language": "python",
   "name": "python3"
  },
  "language_info": {
   "codemirror_mode": {
    "name": "ipython",
    "version": 3
   },
   "file_extension": ".py",
   "mimetype": "text/x-python",
   "name": "python",
   "nbconvert_exporter": "python",
   "pygments_lexer": "ipython3",
   "version": "3.7.3"
  }
 },
 "nbformat": 4,
 "nbformat_minor": 2
}
